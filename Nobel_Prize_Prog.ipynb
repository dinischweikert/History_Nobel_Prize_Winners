{
 "cells": [
  {
   "cell_type": "markdown",
   "id": "db5bd2ce-918a-4f7d-a927-a3ea74c4b456",
   "metadata": {},
   "source": [
    "The Nobel Prize has been among the most prestigious international awards since 1901. Each year, \n",
    "awards are bestowed in chemistry, literature, physics, physiology or medicine, economics, and peace. \n",
    "In addition to the honor, prestige, and substantial prize money, the recipient also gets a gold medal \n",
    "with an image of Alfred Nobel (1833 - 1896), who established the prize.\n",
    "\n",
    "The Nobel Foundation has made a dataset available of all prize winners from the outset of the awards \n",
    "from 1901 to 2023. The dataset used in this project is from the Nobel Prize API and is available \n",
    "in the `nobel.csv` file. In this project, we explore and answer several questions related to this \n",
    "prizewinning data. "
   ]
  },
  {
   "cell_type": "code",
   "execution_count": 26,
   "id": "11fd5946-7bd1-495c-aa7f-ff6e7e4a350b",
   "metadata": {},
   "outputs": [],
   "source": [
    "# Loading in required libraries\n",
    "import pandas as pd\n",
    "import seaborn as sns\n",
    "import numpy as np\n",
    "import matplotlib.pyplot as plt"
   ]
  },
  {
   "cell_type": "code",
   "execution_count": 8,
   "id": "3636baca-ca6d-48b4-b1c8-69e6179e3109",
   "metadata": {},
   "outputs": [
    {
     "data": {
      "text/html": [
       "<div>\n",
       "<style scoped>\n",
       "    .dataframe tbody tr th:only-of-type {\n",
       "        vertical-align: middle;\n",
       "    }\n",
       "\n",
       "    .dataframe tbody tr th {\n",
       "        vertical-align: top;\n",
       "    }\n",
       "\n",
       "    .dataframe thead th {\n",
       "        text-align: right;\n",
       "    }\n",
       "</style>\n",
       "<table border=\"1\" class=\"dataframe\">\n",
       "  <thead>\n",
       "    <tr style=\"text-align: right;\">\n",
       "      <th></th>\n",
       "      <th>year</th>\n",
       "      <th>category</th>\n",
       "      <th>prize</th>\n",
       "      <th>motivation</th>\n",
       "      <th>prize_share</th>\n",
       "      <th>laureate_id</th>\n",
       "      <th>laureate_type</th>\n",
       "      <th>full_name</th>\n",
       "      <th>birth_date</th>\n",
       "      <th>birth_city</th>\n",
       "      <th>birth_country</th>\n",
       "      <th>sex</th>\n",
       "      <th>organization_name</th>\n",
       "      <th>organization_city</th>\n",
       "      <th>organization_country</th>\n",
       "      <th>death_date</th>\n",
       "      <th>death_city</th>\n",
       "      <th>death_country</th>\n",
       "    </tr>\n",
       "  </thead>\n",
       "  <tbody>\n",
       "    <tr>\n",
       "      <th>0</th>\n",
       "      <td>1901</td>\n",
       "      <td>Chemistry</td>\n",
       "      <td>The Nobel Prize in Chemistry 1901</td>\n",
       "      <td>\"in recognition of the extraordinary services ...</td>\n",
       "      <td>1/1</td>\n",
       "      <td>160</td>\n",
       "      <td>Individual</td>\n",
       "      <td>Jacobus Henricus van 't Hoff</td>\n",
       "      <td>1852-08-30</td>\n",
       "      <td>Rotterdam</td>\n",
       "      <td>Netherlands</td>\n",
       "      <td>Male</td>\n",
       "      <td>Berlin University</td>\n",
       "      <td>Berlin</td>\n",
       "      <td>Germany</td>\n",
       "      <td>1911-03-01</td>\n",
       "      <td>Berlin</td>\n",
       "      <td>Germany</td>\n",
       "    </tr>\n",
       "    <tr>\n",
       "      <th>1</th>\n",
       "      <td>1901</td>\n",
       "      <td>Literature</td>\n",
       "      <td>The Nobel Prize in Literature 1901</td>\n",
       "      <td>\"in special recognition of his poetic composit...</td>\n",
       "      <td>1/1</td>\n",
       "      <td>569</td>\n",
       "      <td>Individual</td>\n",
       "      <td>Sully Prudhomme</td>\n",
       "      <td>1839-03-16</td>\n",
       "      <td>Paris</td>\n",
       "      <td>France</td>\n",
       "      <td>Male</td>\n",
       "      <td>NaN</td>\n",
       "      <td>NaN</td>\n",
       "      <td>NaN</td>\n",
       "      <td>1907-09-07</td>\n",
       "      <td>Châtenay</td>\n",
       "      <td>France</td>\n",
       "    </tr>\n",
       "    <tr>\n",
       "      <th>2</th>\n",
       "      <td>1901</td>\n",
       "      <td>Medicine</td>\n",
       "      <td>The Nobel Prize in Physiology or Medicine 1901</td>\n",
       "      <td>\"for his work on serum therapy, especially its...</td>\n",
       "      <td>1/1</td>\n",
       "      <td>293</td>\n",
       "      <td>Individual</td>\n",
       "      <td>Emil Adolf von Behring</td>\n",
       "      <td>1854-03-15</td>\n",
       "      <td>Hansdorf (Lawice)</td>\n",
       "      <td>Prussia (Poland)</td>\n",
       "      <td>Male</td>\n",
       "      <td>Marburg University</td>\n",
       "      <td>Marburg</td>\n",
       "      <td>Germany</td>\n",
       "      <td>1917-03-31</td>\n",
       "      <td>Marburg</td>\n",
       "      <td>Germany</td>\n",
       "    </tr>\n",
       "    <tr>\n",
       "      <th>3</th>\n",
       "      <td>1901</td>\n",
       "      <td>Peace</td>\n",
       "      <td>The Nobel Peace Prize 1901</td>\n",
       "      <td>NaN</td>\n",
       "      <td>1/2</td>\n",
       "      <td>462</td>\n",
       "      <td>Individual</td>\n",
       "      <td>Jean Henry Dunant</td>\n",
       "      <td>1828-05-08</td>\n",
       "      <td>Geneva</td>\n",
       "      <td>Switzerland</td>\n",
       "      <td>Male</td>\n",
       "      <td>NaN</td>\n",
       "      <td>NaN</td>\n",
       "      <td>NaN</td>\n",
       "      <td>1910-10-30</td>\n",
       "      <td>Heiden</td>\n",
       "      <td>Switzerland</td>\n",
       "    </tr>\n",
       "    <tr>\n",
       "      <th>4</th>\n",
       "      <td>1901</td>\n",
       "      <td>Peace</td>\n",
       "      <td>The Nobel Peace Prize 1901</td>\n",
       "      <td>NaN</td>\n",
       "      <td>1/2</td>\n",
       "      <td>463</td>\n",
       "      <td>Individual</td>\n",
       "      <td>Frédéric Passy</td>\n",
       "      <td>1822-05-20</td>\n",
       "      <td>Paris</td>\n",
       "      <td>France</td>\n",
       "      <td>Male</td>\n",
       "      <td>NaN</td>\n",
       "      <td>NaN</td>\n",
       "      <td>NaN</td>\n",
       "      <td>1912-06-12</td>\n",
       "      <td>Paris</td>\n",
       "      <td>France</td>\n",
       "    </tr>\n",
       "  </tbody>\n",
       "</table>\n",
       "</div>"
      ],
      "text/plain": [
       "   year    category                                           prize  \\\n",
       "0  1901   Chemistry               The Nobel Prize in Chemistry 1901   \n",
       "1  1901  Literature              The Nobel Prize in Literature 1901   \n",
       "2  1901    Medicine  The Nobel Prize in Physiology or Medicine 1901   \n",
       "3  1901       Peace                      The Nobel Peace Prize 1901   \n",
       "4  1901       Peace                      The Nobel Peace Prize 1901   \n",
       "\n",
       "                                          motivation prize_share  laureate_id  \\\n",
       "0  \"in recognition of the extraordinary services ...         1/1          160   \n",
       "1  \"in special recognition of his poetic composit...         1/1          569   \n",
       "2  \"for his work on serum therapy, especially its...         1/1          293   \n",
       "3                                                NaN         1/2          462   \n",
       "4                                                NaN         1/2          463   \n",
       "\n",
       "  laureate_type                     full_name  birth_date         birth_city  \\\n",
       "0    Individual  Jacobus Henricus van 't Hoff  1852-08-30          Rotterdam   \n",
       "1    Individual               Sully Prudhomme  1839-03-16              Paris   \n",
       "2    Individual        Emil Adolf von Behring  1854-03-15  Hansdorf (Lawice)   \n",
       "3    Individual             Jean Henry Dunant  1828-05-08             Geneva   \n",
       "4    Individual                Frédéric Passy  1822-05-20              Paris   \n",
       "\n",
       "      birth_country   sex   organization_name organization_city  \\\n",
       "0       Netherlands  Male   Berlin University            Berlin   \n",
       "1            France  Male                 NaN               NaN   \n",
       "2  Prussia (Poland)  Male  Marburg University           Marburg   \n",
       "3       Switzerland  Male                 NaN               NaN   \n",
       "4            France  Male                 NaN               NaN   \n",
       "\n",
       "  organization_country  death_date death_city death_country  \n",
       "0              Germany  1911-03-01     Berlin       Germany  \n",
       "1                  NaN  1907-09-07   Châtenay        France  \n",
       "2              Germany  1917-03-31    Marburg       Germany  \n",
       "3                  NaN  1910-10-30     Heiden   Switzerland  \n",
       "4                  NaN  1912-06-12      Paris        France  "
      ]
     },
     "execution_count": 8,
     "metadata": {},
     "output_type": "execute_result"
    }
   ],
   "source": [
    "# Read in data\n",
    "df = pd.read_csv('data/nobel.csv')\n",
    "\n",
    "# view data\n",
    "df.head()"
   ]
  },
  {
   "cell_type": "code",
   "execution_count": 10,
   "id": "7fd70ef6-07e0-4031-a7cc-4f4f758aa88f",
   "metadata": {},
   "outputs": [
    {
     "data": {
      "text/plain": [
       "(1000, 18)"
      ]
     },
     "execution_count": 10,
     "metadata": {},
     "output_type": "execute_result"
    }
   ],
   "source": [
    "df.shape"
   ]
  },
  {
   "cell_type": "code",
   "execution_count": 12,
   "id": "ab8076b3-0118-4d08-a62b-7b6cbc80bdd4",
   "metadata": {},
   "outputs": [],
   "source": [
    "# most commonly awarded gender and birth country\n",
    "top_gender = df['sex'].mode()\n",
    "top_country = df['birth_country'].mode()"
   ]
  },
  {
   "cell_type": "code",
   "execution_count": 14,
   "id": "caa346d9-2f14-4f0a-aeb8-0d335551d7b7",
   "metadata": {},
   "outputs": [],
   "source": [
    "# decade with the highest ratio of US-born nobel prize winners to total winners\n",
    "# split out decades\n",
    "def get_decade(year):\n",
    "    return year // 10 * 10\n",
    "\n",
    "df['usa_born_winner'] = df['birth_country'] == 'United States of America'\n",
    "df['decade'] = df['year'].apply(get_decade)\n",
    "prop_usa_winners = df.groupby('decade', as_index=False)['usa_born_winner'].mean()\n",
    "\n",
    "# highest ratio of US-born nobel prize winners\n",
    "max_decade_usa = prop_usa_winners[prop_usa_winners['usa_born_winner'] == prop_usa_winners['usa_born_winner'].max()]['decade'].values[0]\n"
   ]
  },
  {
   "cell_type": "code",
   "execution_count": 16,
   "id": "e9fecded-c9b1-49b3-a0f3-1e6dc7cb5dee",
   "metadata": {},
   "outputs": [],
   "source": [
    "# decade and nobel prize category combination had highest proportion \n",
    "# of female winners\n",
    "\n",
    "df['female_winner'] = df['sex'] == 'Female'\n",
    "\n",
    "prop_female_winner = df.groupby(['decade', 'category'],as_index=False)['female_winner'].mean()\n",
    "\n",
    "# create dictionary\n",
    "decade_key = prop_female_winner.loc[prop_female_winner['female_winner'] == prop_female_winner['female_winner'].max()]['decade'].values[0]\n",
    "category_value = prop_female_winner.loc[prop_female_winner['female_winner'] == prop_female_winner['female_winner'].max()]['category'].values[0]\n",
    "\n",
    "max_female_dict = {decade_key: category_value}"
   ]
  },
  {
   "cell_type": "code",
   "execution_count": 18,
   "id": "cd3db77d-6bc2-468f-810d-4b17c2248ada",
   "metadata": {},
   "outputs": [],
   "source": [
    "# first woman to receive a nobel price and in what category\n",
    "female_df = df.loc[df['sex'] == 'Female']\n",
    "\n",
    "# first woman name\n",
    "first_woman_name = female_df.loc[female_df['year'] == female_df['year'].min()]['full_name'].values[0]\n",
    "\n",
    "# first woman category\n",
    "first_woman_category = female_df.loc[female_df['year'] == female_df['year'].min()]['category'].values[0]"
   ]
  },
  {
   "cell_type": "code",
   "execution_count": 20,
   "id": "65979652-e925-485a-b031-10b468d98165",
   "metadata": {},
   "outputs": [],
   "source": [
    "# individuals/organizations that have won more than 1 nobel prize\n",
    "name_list = []\n",
    "repeat_list = []\n",
    "name_list = df['full_name'].unique()\n",
    "for name in name_list:\n",
    "    if len(df.loc[df['full_name']==name]) > 1:\n",
    "        repeat_list.append(name)"
   ]
  },
  {
   "cell_type": "code",
   "execution_count": 22,
   "id": "72906b1b-0720-4d78-acfb-17985b428186",
   "metadata": {},
   "outputs": [],
   "source": [
    "# Which country and decade with highest proportion of women winners\n",
    "prop_country_female_winner = df.groupby(['decade', 'birth_country'],as_index=False)['female_winner'].mean()\n",
    "\n",
    "# create dictionary\n",
    "decade_country_key = prop_country_female_winner.loc[prop_country_female_winner['female_winner'] == prop_female_winner['female_winner'].max()]['decade'].values[0]\n",
    "birth_country_value = prop_country_female_winner.loc[prop_country_female_winner['female_winner'] == prop_female_winner['female_winner'].max()]['birth_country'].values[0]\n"
   ]
  },
  {
   "cell_type": "code",
   "execution_count": 30,
   "id": "0b64519a-dc48-4248-950b-1a7234df04c5",
   "metadata": {},
   "outputs": [
    {
     "data": {
      "image/png": "[encoded data removed]",
      "text/plain": [
       "<Figure size 500x500 with 1 Axes>"
      ]
     },
     "metadata": {},
     "output_type": "display_data"
    }
   ],
   "source": [
    "# visualization of count of winners in Each Category\n",
    "sns.catplot(x='category',\n",
    "           data = df,\n",
    "           kind='count',\n",
    "           hue = 'category')\n",
    "\n",
    "plt.title('Count of Winners in Each Category')\n",
    "\n",
    "plt.show()"
   ]
  },
  {
   "cell_type": "code",
   "execution_count": 32,
   "id": "1ae44ecc-fa70-4288-86e0-eb6de27a6c50",
   "metadata": {},
   "outputs": [
    {
     "data": {
      "image/png": "[encoded data removed]",
      "text/plain": [
       "<Figure size 600.25x500 with 1 Axes>"
      ]
     },
     "metadata": {},
     "output_type": "display_data"
    }
   ],
   "source": [
    "# visualization of men vs women winners\n",
    "sns.catplot(x='sex',\n",
    "            data=df,\n",
    "            kind='count',\n",
    "            hue='sex')\n",
    "\n",
    "plt.show()"
   ]
  },
  {
   "cell_type": "code",
   "execution_count": 34,
   "id": "52489cd3-216b-4ccb-a343-499a4ce21612",
   "metadata": {},
   "outputs": [
    {
     "data": {
      "image/png": "[encoded data removed]",
      "text/plain": [
       "<Figure size 500x500 with 1 Axes>"
      ]
     },
     "metadata": {},
     "output_type": "display_data"
    }
   ],
   "source": [
    "sns.catplot(x='laureate_type',\n",
    "            data = df,\n",
    "            kind='count',\n",
    "            hue = 'laureate_type')\n",
    "\n",
    "plt.show()"
   ]
  },
  {
   "cell_type": "code",
   "execution_count": null,
   "id": "961e81fb-c97b-42b1-962a-628c190b79d0",
   "metadata": {},
   "outputs": [],
   "source": []
  }
 ],
 "metadata": {
  "editor": "DataCamp Workspace",
  "kernelspec": {
   "display_name": "Python 3 (ipykernel)",
   "language": "python",
   "name": "python3"
  },
  "language_info": {
   "codemirror_mode": {
    "name": "ipython",
    "version": 3
   },
   "file_extension": ".py",
   "mimetype": "text/x-python",
   "name": "python",
   "nbconvert_exporter": "python",
   "pygments_lexer": "ipython3",
   "version": "3.11.10"
  }
 },
 "nbformat": 4,
 "nbformat_minor": 5
}
